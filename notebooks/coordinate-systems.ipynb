{
 "cells": [
  {
   "cell_type": "markdown",
   "id": "83cf63d4",
   "metadata": {},
   "source": [
    "# Vehicle Dynamics: Coordinate Systems"
   ]
  },
  {
   "cell_type": "markdown",
   "id": "2663f037",
   "metadata": {},
   "source": [
    "To Do"
   ]
  },
  {
   "cell_type": "code",
   "execution_count": null,
   "id": "8263e48b",
   "metadata": {},
   "outputs": [],
   "source": []
  }
 ],
 "metadata": {
  "kernelspec": {
   "display_name": "Python 3 (ipykernel)",
   "language": "python",
   "name": "python3"
  },
  "language_info": {
   "codemirror_mode": {
    "name": "ipython",
    "version": 3
   },
   "file_extension": ".py",
   "mimetype": "text/x-python",
   "name": "python",
   "nbconvert_exporter": "python",
   "pygments_lexer": "ipython3",
   "version": "3.9.9"
  }
 },
 "nbformat": 4,
 "nbformat_minor": 5
}
